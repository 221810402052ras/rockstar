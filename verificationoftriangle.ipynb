{
 "cells": [
  {
   "cell_type": "code",
   "execution_count": null,
   "metadata": {},
   "outputs": [],
   "source": [
    "a=int(input(\"enter side1 \"))\n",
    "b=int(input(\"enter side2 \"))\n",
    "c=int(input(\"enter side3 \"))\n",
    "if a<b+c and a>b-c:\n",
    "    if b<c+a and b>c-a:\n",
    "        if c<a+b and c>a-b:\n",
    "            print(\"its a triangle\")\n",
    "else:\n",
    "    print(\"its not a triangle\")   "
   ]
  }
 ],
 "metadata": {
  "kernelspec": {
   "display_name": "Python 3",
   "language": "python",
   "name": "python3"
  },
  "language_info": {
   "codemirror_mode": {
    "name": "ipython",
    "version": 3
   },
   "file_extension": ".py",
   "mimetype": "text/x-python",
   "name": "python",
   "nbconvert_exporter": "python",
   "pygments_lexer": "ipython3",
   "version": "3.7.3"
  }
 },
 "nbformat": 4,
 "nbformat_minor": 2
}
