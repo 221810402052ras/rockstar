{
 "cells": [
  {
   "cell_type": "markdown",
   "metadata": {},
   "source": [
    "## input week number and print week day.\n",
    "**Algorithm**\n",
    "- enter number\n",
    "- if n=1,print sunday\n",
    "- n=2,print monday and so on till\n",
    "- n=7,print saturday "
   ]
  },
  {
   "cell_type": "markdown",
   "metadata": {},
   "source": [
    "<img src=\"weekdayweeknum.png\">"
   ]
  },
  {
   "cell_type": "code",
   "execution_count": null,
   "metadata": {},
   "outputs": [],
   "source": [
    "n=int(input(\"enter a number\"))\n",
    "if n==1:\n",
    "    print(\"sunday\")\n",
    "elif n==2:\n",
    "    print(\"monday\")\n",
    "elif n==3:\n",
    "    print(\"tuesday\")\n",
    "elif n==4:\n",
    "    print(\"wednesday\")\n",
    "elif n==5:\n",
    "    print(\"thursday\")\n",
    "elif n==6:\n",
    "    print(\"friday\")\n",
    "elif n==7:\n",
    "    print(\"saturday\")\n",
    "else:\n",
    "    print(\"invalid input\")"
   ]
  }
 ],
 "metadata": {
  "kernelspec": {
   "display_name": "Python 3",
   "language": "python",
   "name": "python3"
  },
  "language_info": {
   "codemirror_mode": {
    "name": "ipython",
    "version": 3
   },
   "file_extension": ".py",
   "mimetype": "text/x-python",
   "name": "python",
   "nbconvert_exporter": "python",
   "pygments_lexer": "ipython3",
   "version": "3.7.3"
  }
 },
 "nbformat": 4,
 "nbformat_minor": 2
}
